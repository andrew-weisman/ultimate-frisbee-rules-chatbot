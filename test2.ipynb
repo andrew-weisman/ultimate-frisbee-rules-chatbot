{
 "cells": [
  {
   "cell_type": "code",
   "execution_count": null,
   "metadata": {},
   "outputs": [
    {
     "name": "stdout",
     "output_type": "stream",
     "text": [
      "Andrew's favorite color is violet\n"
     ]
    }
   ],
   "source": [
    "# This seems to work pretty well!\n",
    "\n",
    "import torch\n",
    "from transformers import GPTNeoForCausalLM, AutoTokenizer\n",
    "\n",
    "def ask_question_gptneo(question, context):\n",
    "    # Load pre-trained model and tokenizer\n",
    "    model_name = \"EleutherAI/gpt-neo-2.7B\"\n",
    "    model = GPTNeoForCausalLM.from_pretrained(model_name)\n",
    "    tokenizer = AutoTokenizer.from_pretrained(model_name)\n",
    "\n",
    "    # Combine context and question into a single prompt\n",
    "    prompt = f\"Context: {context}\\nQuestion: {question}\\nAnswer:\"\n",
    "\n",
    "    # Tokenize the input\n",
    "    inputs = tokenizer(prompt, return_tensors=\"pt\")\n",
    "\n",
    "    # Generate the answer\n",
    "    outputs = model.generate(\n",
    "        inputs.input_ids,\n",
    "        max_new_tokens=10,  # Limit the number of new tokens generated\n",
    "        num_return_sequences=1,\n",
    "        pad_token_id=tokenizer.eos_token_id,\n",
    "        attention_mask=inputs.attention_mask,\n",
    "        temperature=0.3,  # Lower temperature for more deterministic output\n",
    "        top_k=5,  # Limit the number of possible next tokens\n",
    "        do_sample=True  # Enable sampling\n",
    "    )\n",
    "\n",
    "    # Decode the generated text\n",
    "    answer = tokenizer.decode(outputs[0], skip_special_tokens=True)\n",
    "\n",
    "    # Extract the answer part from the generated text\n",
    "    answer = answer.split(\"Answer:\")[1].strip().split('.')[0]  # Extract the first sentence\n",
    "    return answer\n",
    "\n",
    "# Example usage\n",
    "context = \"Andrew's favorite color is violet.\"\n",
    "question = \"What is Andrew's favorite color?\"\n",
    "answer = ask_question_gptneo(question, context)\n",
    "print(answer)  # Should print \"Violet.\""
   ]
  },
  {
   "cell_type": "code",
   "execution_count": 49,
   "metadata": {},
   "outputs": [
    {
     "name": "stdout",
     "output_type": "stream",
     "text": [
      "Andrew's favorite color is violet\n"
     ]
    }
   ],
   "source": [
    "import torch\n",
    "from transformers import AutoModelForCausalLM, AutoTokenizer\n",
    "import contextlib\n",
    "\n",
    "# Define a null context manager\n",
    "@contextlib.contextmanager\n",
    "def null_context():\n",
    "    yield\n",
    "\n",
    "def ask_question(model_name, question, context, use_gpu_if_available=True, mixed_precision=False):\n",
    "    # Load pre-trained model and tokenizer\n",
    "    model = AutoModelForCausalLM.from_pretrained(model_name)\n",
    "    tokenizer = AutoTokenizer.from_pretrained(model_name)\n",
    "\n",
    "    # Move model to GPU if available\n",
    "    device = torch.device(\"cuda\" if use_gpu_if_available and torch.cuda.is_available() else \"cpu\")\n",
    "    model.to(device)\n",
    "\n",
    "    # Combine context and question into a single prompt\n",
    "    prompt = f\"Context: {context}\\nQuestion: {question}\\nAnswer:\"\n",
    "\n",
    "    # Tokenize the input\n",
    "    inputs = tokenizer(prompt, return_tensors=\"pt\").to(device)\n",
    "\n",
    "    # Determine the context to use for mixed precision\n",
    "    context_to_use = torch.autocast(\"cuda\") if mixed_precision and device.type == \"cuda\" else null_context()\n",
    "\n",
    "    # Generate the answer with mixed precision\n",
    "    with context_to_use:\n",
    "        outputs = model.generate(\n",
    "            inputs.input_ids,\n",
    "            max_new_tokens=10,  # Limit the number of new tokens generated\n",
    "            num_return_sequences=1,\n",
    "            pad_token_id=tokenizer.eos_token_id,\n",
    "            attention_mask=inputs.attention_mask,\n",
    "            temperature=0.3,  # Lower temperature for more deterministic output\n",
    "            top_k=5,  # Limit the number of possible next tokens\n",
    "            do_sample=True  # Enable sampling\n",
    "        )\n",
    "\n",
    "    # Decode the generated text\n",
    "    answer = tokenizer.decode(outputs[0], skip_special_tokens=True)\n",
    "\n",
    "    # Extract the answer part from the generated text\n",
    "    answer = answer.split(\"Answer:\")[1].strip().split('.')[0]  # Extract the first sentence\n",
    "    return answer\n",
    "\n",
    "# Example usage\n",
    "model_name = \"EleutherAI/gpt-neo-2.7B\"  # Change this to try different models\n",
    "use_gpu_if_available = True\n",
    "mixed_precision = True\n",
    "context = \"Andrew's favorite color is violet.\"\n",
    "question = \"What is Andrew's favorite color?\"\n",
    "answer = ask_question(model_name, question, context, use_gpu_if_available, mixed_precision)\n",
    "print(answer)  # Should print \"Violet.\""
   ]
  },
  {
   "cell_type": "code",
   "execution_count": null,
   "metadata": {},
   "outputs": [],
   "source": []
  }
 ],
 "metadata": {
  "kernelspec": {
   "display_name": "conda_env-2025-03-03",
   "language": "python",
   "name": "python3"
  },
  "language_info": {
   "codemirror_mode": {
    "name": "ipython",
    "version": 3
   },
   "file_extension": ".py",
   "mimetype": "text/x-python",
   "name": "python",
   "nbconvert_exporter": "python",
   "pygments_lexer": "ipython3",
   "version": "3.12.9"
  }
 },
 "nbformat": 4,
 "nbformat_minor": 2
}
