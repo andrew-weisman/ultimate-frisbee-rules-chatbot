{
 "cells": [
  {
   "cell_type": "code",
   "execution_count": null,
   "metadata": {},
   "outputs": [
    {
     "name": "stderr",
     "output_type": "stream",
     "text": [
      "2025-03-05 15:02:04.035113: I tensorflow/core/util/port.cc:153] oneDNN custom operations are on. You may see slightly different numerical results due to floating-point round-off errors from different computation orders. To turn them off, set the environment variable `TF_ENABLE_ONEDNN_OPTS=0`.\n",
      "2025-03-05 15:02:04.045725: E external/local_xla/xla/stream_executor/cuda/cuda_fft.cc:477] Unable to register cuFFT factory: Attempting to register factory for plugin cuFFT when one has already been registered\n",
      "WARNING: All log messages before absl::InitializeLog() is called are written to STDERR\n",
      "E0000 00:00:1741204924.058131   13262 cuda_dnn.cc:8310] Unable to register cuDNN factory: Attempting to register factory for plugin cuDNN when one has already been registered\n",
      "E0000 00:00:1741204924.061920   13262 cuda_blas.cc:1418] Unable to register cuBLAS factory: Attempting to register factory for plugin cuBLAS when one has already been registered\n",
      "2025-03-05 15:02:04.075953: I tensorflow/core/platform/cpu_feature_guard.cc:210] This TensorFlow binary is optimized to use available CPU instructions in performance-critical operations.\n",
      "To enable the following instructions: AVX2 AVX512F AVX512_VNNI AVX512_BF16 AVX_VNNI FMA, in other operations, rebuild TensorFlow with the appropriate compiler flags.\n"
     ]
    }
   ],
   "source": [
    "# Import necessary libraries\n",
    "import fitz  # PyMuPDF\n",
    "import torch\n",
    "from transformers import GPT2LMHeadModel, GPT2Tokenizer, pipeline\n",
    "from sklearn.feature_extraction.text import TfidfVectorizer\n",
    "import numpy as np"
   ]
  },
  {
   "cell_type": "code",
   "execution_count": null,
   "metadata": {},
   "outputs": [],
   "source": [
    "# Extraction from PDF using PyMuPDF. Good but has newlines in paragraphs.\n",
    "\n",
    "# Extract Text from PDF\n",
    "def extract_text_from_pdf(pdf_path):\n",
    "    document = fitz.open(pdf_path)\n",
    "    text = \"\"\n",
    "    for page_num in range(len(document)):\n",
    "        page = document.load_page(page_num)\n",
    "        text += page.get_text()\n",
    "    return text\n",
    "\n",
    "# Step 1: Extract text from the PDF\n",
    "pdf_path = \"Official-Rules-of-Ultimate-2024-2025.pdf\"\n",
    "rules_text = extract_text_from_pdf(pdf_path)\n",
    "\n",
    "# Save the extracted text to a file\n",
    "with open(\"ultimate_frisbee_rules-pdf_extraction.txt\", \"w\") as file:\n",
    "    file.write(rules_text)"
   ]
  },
  {
   "cell_type": "code",
   "execution_count": null,
   "metadata": {},
   "outputs": [
    {
     "name": "stdout",
     "output_type": "stream",
     "text": [
      "The rules have been successfully extracted and saved to 'cleaned_ultimate_frisbee_rules.txt'.\n"
     ]
    }
   ],
   "source": [
    "# Extraction from HTML using BeautifulSoup. Not so great.\n",
    "\n",
    "from bs4 import BeautifulSoup\n",
    "\n",
    "# Load the HTML content from the file\n",
    "with open('ultimate_frisbee_rules.html', 'r', encoding='utf-8') as file:\n",
    "    html_content = file.read()\n",
    "\n",
    "# Parse the HTML content using BeautifulSoup\n",
    "soup = BeautifulSoup(html_content, 'html.parser')\n",
    "\n",
    "# Extract the main content of the rules\n",
    "rules_content = soup.find('div', {'id': 'rules-of-ultimate'}).get_text(separator='\\n')\n",
    "\n",
    "# Clean the extracted text\n",
    "def clean_text(text):\n",
    "    # Replace multiple newlines with a single newline\n",
    "    text = text.replace('\\n\\n', '\\n')\n",
    "    \n",
    "    # Replace newlines in the middle of paragraphs with a space\n",
    "    text = text.replace('\\n', ' ')\n",
    "    \n",
    "    # Ensure paragraphs are separated by a single newline\n",
    "    text = text.replace('. ', '.\\n')\n",
    "    \n",
    "    return text\n",
    "\n",
    "cleaned_rules_content = clean_text(rules_content)\n",
    "\n",
    "# Save the cleaned rules to a text file\n",
    "with open('ultimate_frisbee_rules-html_extraction.txt', 'w', encoding='utf-8') as output_file:\n",
    "    output_file.write(cleaned_rules_content)\n",
    "\n",
    "print(\"The rules have been successfully extracted and saved to 'cleaned_ultimate_frisbee_rules.txt'.\")"
   ]
  },
  {
   "cell_type": "code",
   "execution_count": null,
   "metadata": {},
   "outputs": [],
   "source": [
    "# GPU test (pytorch)\n",
    "\n",
    "import torch\n",
    "import time\n",
    "\n",
    "# Define a simple matrix multiplication task\n",
    "def gpu_test():\n",
    "    device = torch.device(\"cuda\" if torch.cuda.is_available() else \"cpu\")\n",
    "    print(f\"Using device: {device}\")\n",
    "\n",
    "    # Create random tensors\n",
    "    a = torch.randn(10000, 10000, device=device)\n",
    "    b = torch.randn(10000, 10000, device=device)\n",
    "\n",
    "    # Perform matrix multiplication\n",
    "    start_time = time.time()\n",
    "    c = torch.matmul(a, b)\n",
    "    end_time = time.time()\n",
    "\n",
    "    print(f\"Matrix multiplication completed in {end_time - start_time} seconds\")\n",
    "\n",
    "for i in range(10000):\n",
    "    gpu_test()"
   ]
  },
  {
   "cell_type": "code",
   "execution_count": null,
   "metadata": {},
   "outputs": [
    {
     "name": "stderr",
     "output_type": "stream",
     "text": [
      "2025-03-05 15:00:32.762867: I tensorflow/core/util/port.cc:153] oneDNN custom operations are on. You may see slightly different numerical results due to floating-point round-off errors from different computation orders. To turn them off, set the environment variable `TF_ENABLE_ONEDNN_OPTS=0`.\n",
      "2025-03-05 15:00:32.772080: E external/local_xla/xla/stream_executor/cuda/cuda_fft.cc:477] Unable to register cuFFT factory: Attempting to register factory for plugin cuFFT when one has already been registered\n",
      "WARNING: All log messages before absl::InitializeLog() is called are written to STDERR\n",
      "E0000 00:00:1741204832.781773   12855 cuda_dnn.cc:8310] Unable to register cuDNN factory: Attempting to register factory for plugin cuDNN when one has already been registered\n",
      "E0000 00:00:1741204832.784905   12855 cuda_blas.cc:1418] Unable to register cuBLAS factory: Attempting to register factory for plugin cuBLAS when one has already been registered\n",
      "2025-03-05 15:00:32.795874: I tensorflow/core/platform/cpu_feature_guard.cc:210] This TensorFlow binary is optimized to use available CPU instructions in performance-critical operations.\n",
      "To enable the following instructions: AVX2 AVX512F AVX512_VNNI AVX512_BF16 AVX_VNNI FMA, in other operations, rebuild TensorFlow with the appropriate compiler flags.\n"
     ]
    },
    {
     "name": "stdout",
     "output_type": "stream",
     "text": [
      "Num GPUs Available:  1\n",
      "TensorFlow GPU details:\n",
      "PhysicalDevice(name='/physical_device:GPU:0', device_type='GPU')\n"
     ]
    }
   ],
   "source": [
    "# GPU test (tensorflow)\n",
    "\n",
    "import tensorflow as tf\n",
    "import time\n",
    "\n",
    "# Check if TensorFlow can access the GPU\n",
    "physical_devices = tf.config.list_physical_devices('GPU')\n",
    "print(\"Num GPUs Available: \", len(physical_devices))\n",
    "\n",
    "if physical_devices:\n",
    "    print(\"TensorFlow GPU details:\")\n",
    "    for gpu in physical_devices:\n",
    "        print(gpu)\n",
    "else:\n",
    "    print(\"No GPUs detected by TensorFlow.\")\n",
    "\n",
    "# Define a simple matrix multiplication task\n",
    "def gpu_test():\n",
    "    device = \"/GPU:0\" if tf.config.list_physical_devices('GPU') else \"/CPU:0\"\n",
    "    print(f\"Using device: {device}\")\n",
    "\n",
    "    # Create random tensors\n",
    "    with tf.device(device):\n",
    "        a = tf.random.normal([10000, 10000])\n",
    "        b = tf.random.normal([10000, 10000])\n",
    "\n",
    "        # Perform matrix multiplication\n",
    "        start_time = time.time()\n",
    "        c = tf.matmul(a, b)\n",
    "        end_time = time.time()\n",
    "\n",
    "    print(f\"Matrix multiplication completed in {end_time - start_time} seconds\")\n",
    "\n",
    "for i in range(10000):\n",
    "    gpu_test()"
   ]
  }
 ],
 "metadata": {
  "kernelspec": {
   "display_name": "conda_env-2025-03-03",
   "language": "python",
   "name": "python3"
  },
  "language_info": {
   "codemirror_mode": {
    "name": "ipython",
    "version": 3
   },
   "file_extension": ".py",
   "mimetype": "text/x-python",
   "name": "python",
   "nbconvert_exporter": "python",
   "pygments_lexer": "ipython3",
   "version": "3.12.9"
  }
 },
 "nbformat": 4,
 "nbformat_minor": 2
}
