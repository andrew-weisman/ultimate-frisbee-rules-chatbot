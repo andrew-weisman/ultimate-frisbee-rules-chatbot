{
 "cells": [
  {
   "cell_type": "code",
   "execution_count": 1,
   "metadata": {},
   "outputs": [
    {
     "name": "stderr",
     "output_type": "stream",
     "text": [
      "2025-03-08 06:09:57.312534: I tensorflow/core/util/port.cc:153] oneDNN custom operations are on. You may see slightly different numerical results due to floating-point round-off errors from different computation orders. To turn them off, set the environment variable `TF_ENABLE_ONEDNN_OPTS=0`.\n",
      "2025-03-08 06:09:57.531739: E external/local_xla/xla/stream_executor/cuda/cuda_fft.cc:477] Unable to register cuFFT factory: Attempting to register factory for plugin cuFFT when one has already been registered\n",
      "WARNING: All log messages before absl::InitializeLog() is called are written to STDERR\n",
      "E0000 00:00:1741432197.618814   79458 cuda_dnn.cc:8310] Unable to register cuDNN factory: Attempting to register factory for plugin cuDNN when one has already been registered\n",
      "E0000 00:00:1741432197.642904   79458 cuda_blas.cc:1418] Unable to register cuBLAS factory: Attempting to register factory for plugin cuBLAS when one has already been registered\n",
      "2025-03-08 06:09:56.754802: I tensorflow/core/platform/cpu_feature_guard.cc:210] This TensorFlow binary is optimized to use available CPU instructions in performance-critical operations.\n",
      "To enable the following instructions: AVX2 AVX512F AVX512_VNNI AVX512_BF16 AVX_VNNI FMA, in other operations, rebuild TensorFlow with the appropriate compiler flags.\n"
     ]
    },
    {
     "name": "stdout",
     "output_type": "stream",
     "text": [
      "LOGGER: 2025-03-08 06:10:00,152 - root - INFO - >>>> Running function: run_generator...\n",
      "LOGGER: 2025-03-08 06:10:00,611 - root - INFO - For generation we are using the device: NVIDIA GeForce RTX 4050 Laptop GPU.\n",
      "LOGGER: 2025-03-08 06:10:00,613 - urllib3.connectionpool - DEBUG - Starting new HTTPS connection (1): huggingface.co:443\n",
      "LOGGER: 2025-03-08 06:10:00,688 - urllib3.connectionpool - DEBUG - https://huggingface.co:443 \"HEAD /deepseek-ai/deepseek-llm-7b-base/resolve/main/config.json HTTP/1.1\" 200 0\n",
      "LOGGER: 2025-03-08 06:10:00,786 - urllib3.connectionpool - DEBUG - https://huggingface.co:443 \"HEAD /deepseek-ai/deepseek-llm-7b-base/resolve/main/model.safetensors.index.json HTTP/1.1\" 404 0\n",
      "LOGGER: 2025-03-08 06:10:00,788 - urllib3.connectionpool - DEBUG - Starting new HTTPS connection (1): huggingface.co:443\n"
     ]
    },
    {
     "data": {
      "application/vnd.jupyter.widget-view+json": {
       "model_id": "36f7f26ab3414eeebe6d8a1d42635d9d",
       "version_major": 2,
       "version_minor": 0
      },
      "text/plain": [
       "Loading checkpoint shards:   0%|          | 0/2 [00:00<?, ?it/s]"
      ]
     },
     "metadata": {},
     "output_type": "display_data"
    },
    {
     "name": "stdout",
     "output_type": "stream",
     "text": [
      "LOGGER: 2025-03-08 06:10:00,882 - urllib3.connectionpool - DEBUG - https://huggingface.co:443 \"GET /api/models/deepseek-ai/deepseek-llm-7b-base HTTP/1.1\" 200 2364\n",
      "LOGGER: 2025-03-08 06:10:00,941 - urllib3.connectionpool - DEBUG - https://huggingface.co:443 \"GET /api/models/deepseek-ai/deepseek-llm-7b-base/commits/main HTTP/1.1\" 200 2004\n",
      "LOGGER: 2025-03-08 06:10:00,983 - urllib3.connectionpool - DEBUG - https://huggingface.co:443 \"GET /api/models/deepseek-ai/deepseek-llm-7b-base/discussions?p=0 HTTP/1.1\" 200 3558\n",
      "LOGGER: 2025-03-08 06:10:01,044 - urllib3.connectionpool - DEBUG - https://huggingface.co:443 \"GET /api/models/deepseek-ai/deepseek-llm-7b-base/commits/refs%2Fpr%2F3 HTTP/1.1\" 200 2969\n",
      "LOGGER: 2025-03-08 06:10:01,081 - urllib3.connectionpool - DEBUG - https://huggingface.co:443 \"HEAD /deepseek-ai/deepseek-llm-7b-base/resolve/refs%2Fpr%2F3/model.safetensors.index.json HTTP/1.1\" 200 0\n",
      "LOGGER: 2025-03-08 06:10:01,116 - urllib3.connectionpool - DEBUG - https://huggingface.co:443 \"HEAD /deepseek-ai/deepseek-llm-7b-base/resolve/refs%2Fpr%2F3/model.safetensors.index.json HTTP/1.1\" 200 0\n"
     ]
    },
    {
     "ename": "",
     "evalue": "",
     "output_type": "error",
     "traceback": [
      "\u001b[1;31mThe Kernel crashed while executing code in the current cell or a previous cell. \n",
      "\u001b[1;31mPlease review the code in the cell(s) to identify a possible cause of the failure. \n",
      "\u001b[1;31mClick <a href='https://aka.ms/vscodeJupyterKernelCrash'>here</a> for more info. \n",
      "\u001b[1;31mView Jupyter <a href='command:jupyter.viewOutput'>log</a> for further details."
     ]
    }
   ],
   "source": [
    "import rag\n",
    "import importlib\n",
    "importlib.reload(rag)\n",
    "\n",
    "rag.main()"
   ]
  },
  {
   "cell_type": "code",
   "execution_count": null,
   "metadata": {},
   "outputs": [],
   "source": []
  }
 ],
 "metadata": {
  "kernelspec": {
   "display_name": "conda_env-2025-03-03",
   "language": "python",
   "name": "python3"
  },
  "language_info": {
   "codemirror_mode": {
    "name": "ipython",
    "version": 3
   },
   "file_extension": ".py",
   "mimetype": "text/x-python",
   "name": "python",
   "nbconvert_exporter": "python",
   "pygments_lexer": "ipython3",
   "version": "3.12.9"
  }
 },
 "nbformat": 4,
 "nbformat_minor": 2
}
