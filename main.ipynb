{
 "cells": [
  {
   "cell_type": "code",
   "execution_count": 2,
   "metadata": {},
   "outputs": [
    {
     "name": "stdout",
     "output_type": "stream",
     "text": [
      "LOGGER: 2025-03-08 00:37:54,306 - root - INFO - >>>> Running function: run_generator...\n",
      "LOGGER: 2025-03-08 00:37:54,307 - root - INFO - For generation we are using the device: NVIDIA GeForce RTX 4050 Laptop GPU.\n",
      "LOGGER: 2025-03-08 00:37:54,350 - urllib3.connectionpool - DEBUG - https://huggingface.co:443 \"HEAD /gpt2/resolve/main/config.json HTTP/1.1\" 200 0\n",
      "LOGGER: 2025-03-08 00:37:54,556 - urllib3.connectionpool - DEBUG - https://huggingface.co:443 \"HEAD /gpt2/resolve/main/generation_config.json HTTP/1.1\" 200 0\n",
      "LOGGER: 2025-03-08 00:37:55,041 - urllib3.connectionpool - DEBUG - https://huggingface.co:443 \"HEAD /gpt2/resolve/main/tokenizer_config.json HTTP/1.1\" 200 0\n",
      "LOGGER: 2025-03-08 00:37:55,182 - root - INFO - <<<< Function run_generator completed in 0.88 seconds.\n",
      "LOGGER: 2025-03-08 00:37:55,183 - root - INFO - Andrew's favorite color is violet. What is Andrew's favorite color?\n",
      "\n",
      "Andrew's favorite color is violet. What\n"
     ]
    }
   ],
   "source": [
    "import rag\n",
    "import importlib\n",
    "importlib.reload(rag)\n",
    "\n",
    "rag.main()"
   ]
  },
  {
   "cell_type": "code",
   "execution_count": null,
   "metadata": {},
   "outputs": [],
   "source": []
  }
 ],
 "metadata": {
  "kernelspec": {
   "display_name": "conda_env-2025-03-03",
   "language": "python",
   "name": "python3"
  },
  "language_info": {
   "codemirror_mode": {
    "name": "ipython",
    "version": 3
   },
   "file_extension": ".py",
   "mimetype": "text/x-python",
   "name": "python",
   "nbconvert_exporter": "python",
   "pygments_lexer": "ipython3",
   "version": "3.12.9"
  }
 },
 "nbformat": 4,
 "nbformat_minor": 2
}
