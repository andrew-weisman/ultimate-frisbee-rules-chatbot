{
 "cells": [
  {
   "cell_type": "code",
   "execution_count": 9,
   "metadata": {},
   "outputs": [
    {
     "name": "stdout",
     "output_type": "stream",
     "text": [
      "LOGGER: 2025-03-08 02:56:18,362 - root - INFO - >>>> Running function: run_generator...\n",
      "LOGGER: 2025-03-08 02:56:18,363 - root - INFO - For generation we are using the device: NVIDIA GeForce RTX 4050 Laptop GPU.\n",
      "LOGGER: 2025-03-08 02:56:18,403 - urllib3.connectionpool - DEBUG - https://huggingface.co:443 \"HEAD /facebook/bart-large/resolve/main/config.json HTTP/1.1\" 200 0\n",
      "LOGGER: 2025-03-08 02:56:18,452 - urllib3.connectionpool - DEBUG - https://huggingface.co:443 \"HEAD /facebook/bart-large/resolve/main/model.safetensors HTTP/1.1\" 404 0\n",
      "LOGGER: 2025-03-08 02:56:18,459 - urllib3.connectionpool - DEBUG - Resetting dropped connection: huggingface.co\n",
      "LOGGER: 2025-03-08 02:56:18,686 - urllib3.connectionpool - DEBUG - https://huggingface.co:443 \"GET /api/models/facebook/bart-large HTTP/1.1\" 200 2948\n",
      "LOGGER: 2025-03-08 02:56:18,908 - urllib3.connectionpool - DEBUG - https://huggingface.co:443 \"GET /api/models/facebook/bart-large/commits/main HTTP/1.1\" 200 6495\n",
      "LOGGER: 2025-03-08 02:56:18,959 - urllib3.connectionpool - DEBUG - https://huggingface.co:443 \"GET /api/models/facebook/bart-large/discussions?p=0 HTTP/1.1\" 200 3775\n",
      "LOGGER: 2025-03-08 02:56:19,049 - urllib3.connectionpool - DEBUG - https://huggingface.co:443 \"GET /api/models/facebook/bart-large/commits/refs%2Fpr%2F4 HTTP/1.1\" 200 6800\n",
      "LOGGER: 2025-03-08 02:56:19,132 - urllib3.connectionpool - DEBUG - https://huggingface.co:443 \"HEAD /facebook/bart-large/resolve/refs%2Fpr%2F4/model.safetensors.index.json HTTP/1.1\" 404 0\n",
      "LOGGER: 2025-03-08 02:56:19,225 - urllib3.connectionpool - DEBUG - https://huggingface.co:443 \"HEAD /facebook/bart-large/resolve/refs%2Fpr%2F4/model.safetensors HTTP/1.1\" 302 0\n",
      "LOGGER: 2025-03-08 02:56:20,106 - urllib3.connectionpool - DEBUG - https://huggingface.co:443 \"HEAD /facebook/bart-large/resolve/main/generation_config.json HTTP/1.1\" 404 0\n",
      "LOGGER: 2025-03-08 02:56:20,699 - urllib3.connectionpool - DEBUG - https://huggingface.co:443 \"HEAD /facebook/bart-large/resolve/main/tokenizer_config.json HTTP/1.1\" 200 0\n",
      "LOGGER: 2025-03-08 02:56:21,062 - root - INFO - <<<< Function run_generator completed in 2.70 seconds.\n",
      "LOGGER: 2025-03-08 02:56:21,063 - root - INFO - \n",
      "---\n",
      "Response 1:\n",
      "Andrew's favorite color is violet and Laura's Favorite Color is Green. What is Laura's\n",
      "---\n",
      "\n"
     ]
    }
   ],
   "source": [
    "import rag\n",
    "import importlib\n",
    "importlib.reload(rag)\n",
    "\n",
    "rag.main()"
   ]
  },
  {
   "cell_type": "code",
   "execution_count": null,
   "metadata": {},
   "outputs": [],
   "source": []
  }
 ],
 "metadata": {
  "kernelspec": {
   "display_name": "conda_env-2025-03-03",
   "language": "python",
   "name": "python3"
  },
  "language_info": {
   "codemirror_mode": {
    "name": "ipython",
    "version": 3
   },
   "file_extension": ".py",
   "mimetype": "text/x-python",
   "name": "python",
   "nbconvert_exporter": "python",
   "pygments_lexer": "ipython3",
   "version": "3.12.9"
  }
 },
 "nbformat": 4,
 "nbformat_minor": 2
}
